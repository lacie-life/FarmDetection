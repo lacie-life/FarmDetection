{
 "cells": [
  {
   "cell_type": "code",
   "execution_count": 2,
   "id": "d404d880",
   "metadata": {},
   "outputs": [],
   "source": [
    "import rasterio\n",
    "import rasterio.features\n",
    "import rasterio.warp\n",
    "\n",
    "raster_file_name = r'/media/lacie-life/Data/datasets/ISPRS_BENCHMARK_DATASETS/Potsdam/5_Labels_for_participants/top_potsdam_5_10_label.tif'\n",
    "\n",
    "with rasterio.open(raster_file_name, mode='r',driver='GTiff') as src:\n",
    "    # Assuming you have enough memory\n",
    "    # This is how we read all bands  \n",
    "    mask = src.read()\n",
    "    # now mask is a numpy array of shape (NChannels, Height, Width)."
   ]
  },
  {
   "cell_type": "code",
   "execution_count": 4,
   "id": "4a4a07bb",
   "metadata": {},
   "outputs": [],
   "source": [
    "import numpy as np\n",
    "import glob\n",
    "import cv2"
   ]
  },
  {
   "cell_type": "code",
   "execution_count": 5,
   "id": "6f7d31b7",
   "metadata": {},
   "outputs": [],
   "source": [
    "# These are our classes in RGB format, there exist also the \n",
    "# corresponding integer values commented out.\n",
    "# ******************************************************************\n",
    "Background = np.array([255,0,0]) #:{'name':'Background','cType':0},\n",
    "ImSurf = np.array ([255,255,255])# :{'name':'ImSurf','cType':1},\n",
    "Car = np.array([255,255,0]) # :{'name':'Car','cType':2},\n",
    "Building = np.array([0,0,255]) #:{'name':'Building','cType':3},\n",
    "LowVeg = np.array([0,255,255]) # :{'name':'LowVeg','cType':4},\n",
    "Tree = np.array([0,255,0]) # :{'name':'Tree','cType':5}\n",
    "# ******************************************************************"
   ]
  },
  {
   "cell_type": "code",
   "execution_count": 7,
   "id": "3a499f84",
   "metadata": {},
   "outputs": [],
   "source": [
    "# This is how you go FAST from RGB to integer values.\n",
    "def rgb_to_2D_label(_label):\n",
    "    \"\"\"\n",
    "    Here _label is the mask raster that corresponds to the input image.\n",
    "    \"\"\"\n",
    "    label_seg = np.zeros(_label.shape[1:],dtype=np.uint8)\n",
    "    label_seg [np.all(_label.transpose([1,2,0])==Background,axis=-1)] = 0\n",
    "    label_seg [np.all(_label.transpose([1,2,0])==ImSurf,axis=-1)] = 1\n",
    "    label_seg [np.all(_label.transpose([1,2,0])==Car,axis=-1)] = 2\n",
    "    label_seg [np.all(_label.transpose([1,2,0])==Building,axis=-1)] = 3\n",
    "    label_seg [np.all(_label.transpose([1,2,0])==LowVeg,axis=-1)] = 4\n",
    "    label_seg [np.all(_label.transpose([1,2,0])==Tree,axis=-1)] = 5\n",
    "    \n",
    "    return label_seg"
   ]
  },
  {
   "cell_type": "code",
   "execution_count": 11,
   "id": "dbc97d9e",
   "metadata": {},
   "outputs": [],
   "source": [
    "# translates image to 1H encoding\n",
    "NClasses = 6 # in this dataset\n",
    "def rgb_to_1Hlabel(_label):\n",
    "    teye = np.eye(NClasses,dtype=np.uint8)\n",
    "    \n",
    "    label_seg = np.zeros([*_label.shape[1:],NClasses],dtype=np.uint8)\n",
    "    label_seg [np.all(_label.transpose([1,2,0])==Background,axis=-1)] = teye[0]\n",
    "    label_seg [np.all(_label.transpose([1,2,0])==ImSurf,axis=-1)] = teye[1]\n",
    "    label_seg [np.all(_label.transpose([1,2,0])==Car,axis=-1)] = teye[2]\n",
    "    label_seg [np.all(_label.transpose([1,2,0])==Building,axis=-1)] = teye[3]\n",
    "    label_seg [np.all(_label.transpose([1,2,0])==LowVeg,axis=-1)] = teye[4]\n",
    "    label_seg [np.all(_label.transpose([1,2,0])==Tree,axis=-1)] = teye[5]\n",
    "    \n",
    "    return label_seg.transpose([2,0,1])"
   ]
  },
  {
   "cell_type": "code",
   "execution_count": null,
   "id": "53d1b114",
   "metadata": {},
   "outputs": [],
   "source": []
  },
  {
   "cell_type": "code",
   "execution_count": 10,
   "id": "3587b4db",
   "metadata": {},
   "outputs": [
    {
     "ename": "NameError",
     "evalue": "name 'mask_1hot' is not defined",
     "output_type": "error",
     "traceback": [
      "\u001b[0;31m---------------------------------------------------------------------------\u001b[0m",
      "\u001b[0;31mNameError\u001b[0m                                 Traceback (most recent call last)",
      "\u001b[0;32m/tmp/ipykernel_24371/1140310444.py\u001b[0m in \u001b[0;36m<module>\u001b[0;34m\u001b[0m\n\u001b[1;32m      1\u001b[0m \u001b[0;31m# mask_1hot.shape == NClasses, Height, Width\u001b[0m\u001b[0;34m\u001b[0m\u001b[0;34m\u001b[0m\u001b[0;34m\u001b[0m\u001b[0m\n\u001b[0;32m----> 2\u001b[0;31m \u001b[0mmask_2d\u001b[0m \u001b[0;34m=\u001b[0m \u001b[0mnp\u001b[0m\u001b[0;34m.\u001b[0m\u001b[0margmax\u001b[0m\u001b[0;34m(\u001b[0m\u001b[0mmask_1hot\u001b[0m\u001b[0;34m,\u001b[0m\u001b[0maxis\u001b[0m\u001b[0;34m=\u001b[0m\u001b[0;36m0\u001b[0m\u001b[0;34m)\u001b[0m\u001b[0;34m\u001b[0m\u001b[0;34m\u001b[0m\u001b[0m\n\u001b[0m",
      "\u001b[0;31mNameError\u001b[0m: name 'mask_1hot' is not defined"
     ]
    }
   ],
   "source": [
    "# mask_1hot.shape == NClasses, Height, Width\n",
    "mask_2d = np.argmax(mask_1hot,axis=0)"
   ]
  }
 ],
 "metadata": {
  "kernelspec": {
   "display_name": "Python 3 (ipykernel)",
   "language": "python",
   "name": "python3"
  },
  "language_info": {
   "codemirror_mode": {
    "name": "ipython",
    "version": 3
   },
   "file_extension": ".py",
   "mimetype": "text/x-python",
   "name": "python",
   "nbconvert_exporter": "python",
   "pygments_lexer": "ipython3",
   "version": "3.8.10"
  }
 },
 "nbformat": 4,
 "nbformat_minor": 5
}
