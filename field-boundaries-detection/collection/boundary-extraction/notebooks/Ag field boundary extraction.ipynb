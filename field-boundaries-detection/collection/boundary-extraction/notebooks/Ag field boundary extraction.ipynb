{
 "cells": [
  {
   "cell_type": "markdown",
   "metadata": {},
   "source": [
    "# Doing cool stuff with satellite data!\n",
    "What am I doing?"
   ]
  },
  {
   "cell_type": "markdown",
   "metadata": {},
   "source": [
    "## Checklist of steps\n",
    "\n",
    "- [x] Access Google Earth Engine API\n",
    "- [ ] Download LandSat for growing season in Snake River basin"
   ]
  },
  {
   "cell_type": "markdown",
   "metadata": {},
   "source": [
    "## Resources for datasets and usage\n",
    "Google: Earth Engine Developers docs (http://developers.google.com/earth-engine)\n",
    "\n",
    "NASA: Landsat 8 Bands (https://landsat.gsfc.nasa.gov/landsat-8/landsat-8-bands)\n",
    "\n",
    "USGS: What are the best Landsat spectral bands for use in my research? (https://www.usgs.gov/faqs/what-are-best-landsat-spectral-bands-use-my-research?qt-news_science_products=0#qt-news_science_products)\n",
    "\n",
    "USGS: Common Landsat Band RGB Composites (https://www.usgs.gov/media/images/common-landsat-band-rgb-composites)\n",
    "\n",
    "NASA: How to Interpret Common False Color Images (https://earthobservatory.nasa.gov/features/FalseColor/page6.php)\n",
    "\n",
    "USGS: Spectral Characteristics Viewer (https://landsat.usgs.gov/spectral-characteristics-viewer)\n",
    "\n",
    "What we built in the class: Karin’s “Landsat 8 Analyzer” code snippet (https://code.earthengine.google.com/ad2cf9683d62290dcbe8d3b00babe45f)"
   ]
  },
  {
   "cell_type": "markdown",
   "metadata": {},
   "source": [
    "## Setup\n",
    "\n",
    "### Install Google Earth Engine API\n",
    "\n",
    "Must start by following the instructions here: https://developers.google.com/earth-engine/guides/python_install-conda#mac_5\n",
    "\n",
    "Once that is all good to go you should make sure your `ee` conda environment is activated (you should see `(ee)` at the beginning of your command prompt in the terminal where your username usually is. Get there by running `conda activate ee` (after creating the conda env according to the instructions above).\n",
    "\n",
    "Make sure you are always in your `ee` conda environment for development, and install all library dependencies only after activating your environment.\n",
    "\n",
    "To share the environment with other users for reproducibility, run \n",
    "`conda env export > $HOME/ee-shared-env.yml`, then have the other person download that file and run `conda env create -f path-to-ee-shared-env.yml`\n",
    "\n",
    "Once that is all set up and you are in your conda env you can simply import earthengine (`ee`)"
   ]
  },
  {
   "cell_type": "markdown",
   "metadata": {},
   "source": [
    "### Import and test GEE"
   ]
  },
  {
   "cell_type": "code",
   "execution_count": null,
   "metadata": {},
   "outputs": [],
   "source": [
    "import ee\n",
    "\n",
    "# Initialize the Earth Engine module.\n",
    "ee.Initialize()\n",
    "\n",
    "# Print metadata for a DEM dataset.\n",
    "print(ee.Image('USGS/SRTMGL1_003').getInfo())"
   ]
  },
  {
   "cell_type": "markdown",
   "metadata": {},
   "source": [
    "### Success!!!"
   ]
  },
  {
   "cell_type": "markdown",
   "metadata": {},
   "source": [
    "## Testing an example use case\n",
    "## NOTE: Not sure if this is useful AT ALL\n",
    "Source: https://github.com/google/earthengine-api/blob/master/python/examples/ipynb/Earth_Engine_asset_from_cloud_geotiff.ipynb"
   ]
  },
  {
   "cell_type": "code",
   "execution_count": null,
   "metadata": {},
   "outputs": [],
   "source": [
    "from ee import oauth\n",
    "from google_auth_oauthlib.flow import Flow\n",
    "import json\n",
    "\n",
    "# Build the `client_secrets.json` file by borrowing the\n",
    "# Earth Engine python authenticator.\n",
    "client_secrets = {\n",
    "    'web': {\n",
    "        'client_id': oauth.CLIENT_ID,\n",
    "        'client_secret': oauth.CLIENT_SECRET,\n",
    "        'redirect_uris': [oauth.REDIRECT_URI],\n",
    "        'auth_uri': 'https://accounts.google.com/o/oauth2/auth',\n",
    "        'token_uri': 'https://accounts.google.com/o/oauth2/token'\n",
    "    }\n",
    "}\n",
    "\n",
    "# Write to a json file.\n",
    "client_secrets_file = 'client_secrets.json'\n",
    "with open(client_secrets_file, 'w') as f:\n",
    "  json.dump(client_secrets, f, indent=2)\n",
    "\n",
    "# Start the flow using the client_secrets.json file.\n",
    "flow = Flow.from_client_secrets_file(client_secrets_file,\n",
    "    scopes=oauth.SCOPES,\n",
    "    redirect_uri=oauth.REDIRECT_URI)\n",
    "\n",
    "# Get the authorization URL from the flow.\n",
    "auth_url, _ = flow.authorization_url(prompt='consent')\n",
    "\n",
    "# Print instructions to go to the authorization URL.\n",
    "oauth._display_auth_instructions_with_print(auth_url)\n",
    "print('\\n')\n",
    "\n",
    "# The user will get an authorization code.\n",
    "# This code is used to get the access token.\n",
    "code = input('Enter the authorization code: \\n')\n",
    "flow.fetch_token(code=code)\n",
    "\n",
    "# Get an authorized session from the flow.\n",
    "session = flow.authorized_session()"
   ]
  },
  {
   "cell_type": "markdown",
   "metadata": {},
   "source": [
    "## Generating datasets/assets in GEE then exporting them for use here\n",
    "Useful info: https://developers.google.com/earth-engine/guides/exporting#configuration-parameters\n",
    "\n",
    "My understanding is that the best way to do this is to use the JavaScript API in GEE to access and process datasets, which can then be exported and loaded here for use in models, etc.\n",
    "\n",
    "Still figuring this out though."
   ]
  },
  {
   "cell_type": "markdown",
   "metadata": {},
   "source": [
    "### Loading an existing COG (Cloud Optimized GeoTiff)\n",
    "I thiiiiiink then you can access the asset using something like the following (which uses an example COG, or Cloud Optimized GeoTiff). The request body is an instance of an EarthEngineAsset.\n",
    "\n",
    "This example COG was generated using this example script: https://code.earthengine.google.com/?scriptPath=Examples%3ACloud%20Masking%2FSentinel2"
   ]
  },
  {
   "cell_type": "code",
   "execution_count": null,
   "metadata": {},
   "outputs": [],
   "source": [
    "# Request body as a dictionary.\n",
    "request = {\n",
    "  'type': 'IMAGE',\n",
    "  'gcs_location': {\n",
    "    'uris': ['gs://ee-docs-demos/COG_demo.tif']\n",
    "  },\n",
    "  'properties': {\n",
    "    'source': 'https://code.earthengine.google.com/d541cf8b268b2f9d8f834c255698201d'\n",
    "  },\n",
    "  'startTime': '2016-01-01T00:00:00.000000000Z',\n",
    "  'endTime': '2016-12-31T15:01:23.000000000Z',\n",
    "}\n",
    "\n",
    "from pprint import pprint\n",
    "pprint(json.dumps(request))"
   ]
  },
  {
   "cell_type": "markdown",
   "metadata": {},
   "source": [
    "### Send the request\n",
    "Make the POST request to the Earth Engine CreateAsset endpoint.\n",
    "\n",
    "This will place the asset in your assets folder of your GEE account."
   ]
  },
  {
   "cell_type": "code",
   "execution_count": null,
   "metadata": {},
   "outputs": [],
   "source": [
    "# Send the request\n",
    "# Where Earth Engine assets are kept.\n",
    "project_folder = 'earthengine-legacy'\n",
    "# Your user folder name and new asset name.\n",
    "asset_id = 'users/elliothohn/sample_asset'\n",
    "\n",
    "url = 'https://earthengine.googleapis.com/v1alpha/projects/{}/assets?assetId={}'\n",
    "\n",
    "response = session.post(\n",
    "  url = url.format(project_folder, asset_id),\n",
    "  data = json.dumps(request)\n",
    ")\n",
    "\n",
    "pprint(json.loads(response.content))"
   ]
  },
  {
   "cell_type": "markdown",
   "metadata": {},
   "source": [
    "## Example 2 - uploading a set of image tiles into a single asset using a manifest file\n",
    "\n",
    "Source: https://github.com/google/earthengine-api/blob/master/python/examples/ipynb/Uploading_image_tiles_as_a_single_asset_using_a_manifest.ipynb\n",
    "\n",
    "#### NOTE: this is not working right now, and I don't think I actually need it quite yet (because I think I can start by using assets within GEE without having to store anything in Google Cloud Storage yet). Once I'm at that stage (assuming that's actually necessary/useful?) maybe move this into it's own notebook."
   ]
  },
  {
   "cell_type": "code",
   "execution_count": null,
   "metadata": {},
   "outputs": [],
   "source": [
    "# URLs of a few tiles.\n",
    "urls = [\n",
    "  'http://data.ess.tsinghua.edu.cn/data/fromglc10_2017v01/fromglc10v01_36_-120.tif',\n",
    "  'http://data.ess.tsinghua.edu.cn/data/fromglc10_2017v01/fromglc10v01_36_-122.tif',\n",
    "  'http://data.ess.tsinghua.edu.cn/data/fromglc10_2017v01/fromglc10v01_36_-124.tif',\n",
    "  'http://data.ess.tsinghua.edu.cn/data/fromglc10_2017v01/fromglc10v01_38_-120.tif',\n",
    "  'http://data.ess.tsinghua.edu.cn/data/fromglc10_2017v01/fromglc10v01_38_-122.tif',\n",
    "  'http://data.ess.tsinghua.edu.cn/data/fromglc10_2017v01/fromglc10v01_38_-124.tif'\n",
    "]\n",
    "\n",
    "# You need to have write access to this bucket.\n",
    "bucket = 'imagery-testing'\n",
    "\n",
    "# Pipe curl output to gsutil.\n",
    "for f in urls:\n",
    "  filepath = bucket + '/' + f.split('/')[-1]\n",
    "  !curl {f} | gsutil cp - {filepath}"
   ]
  },
  {
   "cell_type": "markdown",
   "metadata": {},
   "source": [
    "## TensorFlow example\n",
    "Source: https://github.com/google/earthengine-api/blob/master/python/examples/ipynb/Earth_Engine_TensorFlow_AI_Platform.ipynb\n"
   ]
  },
  {
   "cell_type": "code",
   "execution_count": null,
   "metadata": {},
   "outputs": [],
   "source": [
    "import ee\n",
    "ee.Authenticate()\n",
    "ee.Initialize()"
   ]
  },
  {
   "cell_type": "code",
   "execution_count": null,
   "metadata": {},
   "outputs": [],
   "source": [
    "import tensorflow as tf\n",
    "print(tf.__version__)"
   ]
  },
  {
   "cell_type": "markdown",
   "metadata": {},
   "source": [
    "### Creating training data\n",
    "\n",
    "Read this: https://colab.research.google.com/github/google/earthengine-api/blob/master/python/examples/ipynb/TF_demo1_keras.ipynb"
   ]
  },
  {
   "cell_type": "code",
   "execution_count": null,
   "metadata": {},
   "outputs": [],
   "source": []
  }
 ],
 "metadata": {
  "kernelspec": {
   "display_name": "Python 3",
   "language": "python",
   "name": "python3"
  },
  "language_info": {
   "codemirror_mode": {
    "name": "ipython",
    "version": 3
   },
   "file_extension": ".py",
   "mimetype": "text/x-python",
   "name": "python",
   "nbconvert_exporter": "python",
   "pygments_lexer": "ipython3",
   "version": "3.9.2"
  }
 },
 "nbformat": 4,
 "nbformat_minor": 4
}
