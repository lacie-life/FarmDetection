{
 "cells": [
  {
   "cell_type": "code",
   "execution_count": 2,
   "id": "d404d880",
   "metadata": {},
   "outputs": [],
   "source": [
    "import rasterio\n",
    "import rasterio.features\n",
    "import rasterio.warp\n",
    "\n",
    "raster_file_name = r'/media/lacie-life/Data/datasets/ISPRS_BENCHMARK_DATASETS/Potsdam/5_Labels_for_participants/top_potsdam_5_10_label.tif'\n",
    "\n",
    "with rasterio.open(raster_file_name, mode='r',driver='GTiff') as src:\n",
    "    # Assuming you have enough memory\n",
    "    # This is how we read all bands  \n",
    "    mask = src.read()\n",
    "    # now mask is a numpy array of shape (NChannels, Height, Width)."
   ]
  },
  {
   "cell_type": "code",
   "execution_count": null,
   "id": "6f7d31b7",
   "metadata": {},
   "outputs": [],
   "source": [
    "# These are our classes in RGB format, there exist also the \n",
    "# corresponding integer values commented out.\n",
    "# ******************************************************************\n",
    "Background = np.array([255,0,0]) #:{'name':'Background','cType':0},\n",
    "ImSurf = np.array ([255,255,255])# :{'name':'ImSurf','cType':1},\n",
    "Car = np.array([255,255,0]) # :{'name':'Car','cType':2},\n",
    "Building = np.array([0,0,255]) #:{'name':'Building','cType':3},\n",
    "LowVeg = np.array([0,255,255]) # :{'name':'LowVeg','cType':4},\n",
    "Tree = np.array([0,255,0]) # :{'name':'Tree','cType':5}\n",
    "# ******************************************************************"
   ]
  }
 ],
 "metadata": {
  "kernelspec": {
   "display_name": "Python 3 (ipykernel)",
   "language": "python",
   "name": "python3"
  },
  "language_info": {
   "codemirror_mode": {
    "name": "ipython",
    "version": 3
   },
   "file_extension": ".py",
   "mimetype": "text/x-python",
   "name": "python",
   "nbconvert_exporter": "python",
   "pygments_lexer": "ipython3",
   "version": "3.8.10"
  }
 },
 "nbformat": 4,
 "nbformat_minor": 5
}
