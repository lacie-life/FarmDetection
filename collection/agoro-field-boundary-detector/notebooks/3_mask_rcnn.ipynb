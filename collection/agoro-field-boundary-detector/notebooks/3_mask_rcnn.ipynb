{
 "cells": [
  {
   "cell_type": "code",
   "execution_count": 1,
   "id": "299067ab",
   "metadata": {},
   "outputs": [
    {
     "name": "stdout",
     "output_type": "stream",
     "text": [
      "/Users/rubenbroekx/Documents/Projects/agoro-field-boundary-detector\n"
     ]
    }
   ],
   "source": [
    "%load_ext autoreload\n",
    "%autoreload 2\n",
    "\n",
    "%cd .."
   ]
  },
  {
   "cell_type": "markdown",
   "id": "2da7ead4",
   "metadata": {},
   "source": [
    "# Mask RCNN\n",
    "\n",
    "Train a Mask RCNN to perform instance segmentation."
   ]
  },
  {
   "cell_type": "code",
   "execution_count": 2,
   "id": "d574d053",
   "metadata": {},
   "outputs": [],
   "source": [
    "from pathlib import Path\n",
    "\n",
    "from src.agoro_field_boundary_detector.field_detection import FieldBoundaryDetector, Dataset"
   ]
  },
  {
   "cell_type": "code",
   "execution_count": 3,
   "id": "b6ce7e8d",
   "metadata": {},
   "outputs": [],
   "source": [
    "# Create often-used paths\n",
    "DATA = Path.cwd() / 'data'\n",
    "MODELS = Path.cwd() / 'models'"
   ]
  },
  {
   "cell_type": "code",
   "execution_count": 4,
   "id": "d736a6fd",
   "metadata": {},
   "outputs": [
    {
     "name": "stdout",
     "output_type": "stream",
     "text": [
      "Number of training samples: 300\n",
      "Number of testing  samples: 10\n"
     ]
    }
   ],
   "source": [
    "# Load in training and testing data\n",
    "dataset_train = Dataset(DATA / 'augmented')\n",
    "print(f\"Number of training samples: {len(dataset_train)}\")\n",
    "dataset_test = Dataset(DATA / 'test')\n",
    "print(f\"Number of testing  samples: {len(dataset_test)}\")"
   ]
  },
  {
   "cell_type": "code",
   "execution_count": null,
   "id": "d4764dcc",
   "metadata": {},
   "outputs": [],
   "source": [
    "# Train the model\n",
    "field_detector = FieldBoundaryDetector(\n",
    "    model_path=MODELS / 'mask_rcnn',\n",
    "    reset=True,\n",
    ")\n",
    "field_detector.train(\n",
    "    dataset=dataset_train,\n",
    "    batch_size=4,\n",
    ")"
   ]
  },
  {
   "cell_type": "code",
   "execution_count": null,
   "id": "2f417f68",
   "metadata": {},
   "outputs": [],
   "source": [
    "# Evaluate the model\n",
    "field_detector.evaluate(\n",
    "    dataset=dataset_test,\n",
    "    n_show=10,\n",
    "    write_path=Path.cwd() / 'data/test_results',\n",
    ")"
   ]
  },
  {
   "cell_type": "code",
   "execution_count": null,
   "id": "7cb2b326",
   "metadata": {},
   "outputs": [],
   "source": []
  }
 ],
 "metadata": {
  "hide_input": false,
  "kernelspec": {
   "display_name": "Python 3",
   "language": "python",
   "name": "python3"
  },
  "language_info": {
   "codemirror_mode": {
    "name": "ipython",
    "version": 3
   },
   "file_extension": ".py",
   "mimetype": "text/x-python",
   "name": "python",
   "nbconvert_exporter": "python",
   "pygments_lexer": "ipython3",
   "version": "3.8.10"
  }
 },
 "nbformat": 4,
 "nbformat_minor": 5
}
